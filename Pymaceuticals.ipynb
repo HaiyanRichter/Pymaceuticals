{
 "cells": [
  {
   "cell_type": "code",
   "execution_count": 2,
   "metadata": {},
   "outputs": [],
   "source": [
    "import pandas as pd\n",
    "import numpy as np\n",
    "import matplotlib.pyplot as plt\n",
    "import seaborn as sns\n",
    "from scipy.stats import sem"
   ]
  },
  {
   "cell_type": "code",
   "execution_count": 5,
   "metadata": {},
   "outputs": [
    {
     "name": "stdout",
     "output_type": "stream",
     "text": [
      "    Mouse ID      Drug\n",
      "0       f234  Stelasyn\n",
      "1       x402  Stelasyn\n",
      "2       a492  Stelasyn\n",
      "3       w540  Stelasyn\n",
      "4       v764  Stelasyn\n",
      "5       o848  Stelasyn\n",
      "6       z314  Stelasyn\n",
      "7       g989  Stelasyn\n",
      "8       m269  Stelasyn\n",
      "9       a963  Stelasyn\n",
      "10      t451  Stelasyn\n",
      "11      p981  Stelasyn\n",
      "12      k510  Stelasyn\n",
      "13      h333  Stelasyn\n",
      "14      c402  Stelasyn\n",
      "15      j984  Stelasyn\n",
      "16      w697  Stelasyn\n",
      "17      s619  Stelasyn\n",
      "18      g867  Stelasyn\n",
      "19      k862  Stelasyn\n",
      "20      i901  Stelasyn\n",
      "21      b879  Stelasyn\n",
      "22      p387  Stelasyn\n",
      "23      a366  Stelasyn\n",
      "24      s565  Stelasyn\n",
      "25      j755  Naftisol\n",
      "26      e213  Naftisol\n",
      "27      e584  Naftisol\n",
      "28      e291  Naftisol\n",
      "29      z795  Naftisol\n",
      "..       ...       ...\n",
      "220     a444  Ramicane\n",
      "221     a411  Ramicane\n",
      "222     j913  Ramicane\n",
      "223     q610  Ramicane\n",
      "224     c458  Ramicane\n",
      "225     a897   Placebo\n",
      "226     c757   Placebo\n",
      "227     i477   Placebo\n",
      "228     o302   Placebo\n",
      "229     t718   Placebo\n",
      "230     w167   Placebo\n",
      "231     x773   Placebo\n",
      "232     s166   Placebo\n",
      "233     q582   Placebo\n",
      "234     y478   Placebo\n",
      "235     o795   Placebo\n",
      "236     l872   Placebo\n",
      "237     t994   Placebo\n",
      "238     v409   Placebo\n",
      "239     v989   Placebo\n",
      "240     c282   Placebo\n",
      "241     e227   Placebo\n",
      "242     c766   Placebo\n",
      "243     s152   Placebo\n",
      "244     n763   Placebo\n",
      "245     i669   Placebo\n",
      "246     r850   Placebo\n",
      "247     a262   Placebo\n",
      "248     q787   Placebo\n",
      "249     j235   Placebo\n",
      "\n",
      "[250 rows x 2 columns]\n"
     ]
    },
    {
     "ename": "AttributeError",
     "evalue": "'NoneType' object has no attribute 'head'",
     "output_type": "error",
     "traceback": [
      "\u001b[0;31m---------------------------------------------------------------------------\u001b[0m",
      "\u001b[0;31mAttributeError\u001b[0m                            Traceback (most recent call last)",
      "\u001b[0;32m<ipython-input-5-7d756fda402f>\u001b[0m in \u001b[0;36m<module>\u001b[0;34m()\u001b[0m\n\u001b[1;32m      2\u001b[0m \u001b[0mmousedata\u001b[0m \u001b[0;34m=\u001b[0m \u001b[0mpd\u001b[0m\u001b[0;34m.\u001b[0m\u001b[0mread_csv\u001b[0m\u001b[0;34m(\u001b[0m\u001b[0;34m\"mouse_drug_data.csv\"\u001b[0m\u001b[0;34m)\u001b[0m\u001b[0;34m\u001b[0m\u001b[0m\n\u001b[1;32m      3\u001b[0m \u001b[0mtrialdata\u001b[0m \u001b[0;34m=\u001b[0m \u001b[0mpd\u001b[0m\u001b[0;34m.\u001b[0m\u001b[0mread_csv\u001b[0m\u001b[0;34m(\u001b[0m\u001b[0;34m\"clinicaltrial_data.csv\"\u001b[0m\u001b[0;34m)\u001b[0m\u001b[0;34m\u001b[0m\u001b[0m\n\u001b[0;32m----> 4\u001b[0;31m \u001b[0mprint\u001b[0m\u001b[0;34m(\u001b[0m\u001b[0mmousedata\u001b[0m\u001b[0;34m)\u001b[0m\u001b[0;34m.\u001b[0m\u001b[0mhead\u001b[0m\u001b[0;34m(\u001b[0m\u001b[0;34m)\u001b[0m\u001b[0;34m\u001b[0m\u001b[0m\n\u001b[0m\u001b[1;32m      5\u001b[0m \u001b[0mprint\u001b[0m\u001b[0;34m(\u001b[0m\u001b[0mtrialdata\u001b[0m\u001b[0;34m)\u001b[0m\u001b[0;34m.\u001b[0m\u001b[0mhead\u001b[0m\u001b[0;34m(\u001b[0m\u001b[0;34m)\u001b[0m\u001b[0;34m\u001b[0m\u001b[0m\n",
      "\u001b[0;31mAttributeError\u001b[0m: 'NoneType' object has no attribute 'head'"
     ]
    }
   ],
   "source": [
    "#Read the datafiles to pandas dataframes\n",
    "mousedata = pd.read_csv(\"mouse_drug_data.csv\")\n",
    "trialdata = pd.read_csv(\"clinicaltrial_data.csv\")\n",
    "print(mousedata).head()\n",
    "print(trialdata).head()"
   ]
  },
  {
   "cell_type": "code",
   "execution_count": 6,
   "metadata": {},
   "outputs": [
    {
     "data": {
      "text/html": [
       "<div>\n",
       "<style scoped>\n",
       "    .dataframe tbody tr th:only-of-type {\n",
       "        vertical-align: middle;\n",
       "    }\n",
       "\n",
       "    .dataframe tbody tr th {\n",
       "        vertical-align: top;\n",
       "    }\n",
       "\n",
       "    .dataframe thead th {\n",
       "        text-align: right;\n",
       "    }\n",
       "</style>\n",
       "<table border=\"1\" class=\"dataframe\">\n",
       "  <thead>\n",
       "    <tr style=\"text-align: right;\">\n",
       "      <th></th>\n",
       "      <th>Mouse ID</th>\n",
       "      <th>Timepoint</th>\n",
       "      <th>Tumor Volume (mm3)</th>\n",
       "      <th>Metastatic Sites</th>\n",
       "    </tr>\n",
       "    <tr>\n",
       "      <th>Drug</th>\n",
       "      <th></th>\n",
       "      <th></th>\n",
       "      <th></th>\n",
       "      <th></th>\n",
       "    </tr>\n",
       "  </thead>\n",
       "  <tbody>\n",
       "    <tr>\n",
       "      <th>Capomulin</th>\n",
       "      <td>b128</td>\n",
       "      <td>0</td>\n",
       "      <td>45.000000</td>\n",
       "      <td>0</td>\n",
       "    </tr>\n",
       "    <tr>\n",
       "      <th>Capomulin</th>\n",
       "      <td>b128</td>\n",
       "      <td>5</td>\n",
       "      <td>45.651331</td>\n",
       "      <td>0</td>\n",
       "    </tr>\n",
       "    <tr>\n",
       "      <th>Capomulin</th>\n",
       "      <td>b128</td>\n",
       "      <td>10</td>\n",
       "      <td>43.270852</td>\n",
       "      <td>0</td>\n",
       "    </tr>\n",
       "    <tr>\n",
       "      <th>Capomulin</th>\n",
       "      <td>b128</td>\n",
       "      <td>15</td>\n",
       "      <td>43.784893</td>\n",
       "      <td>0</td>\n",
       "    </tr>\n",
       "    <tr>\n",
       "      <th>Capomulin</th>\n",
       "      <td>b128</td>\n",
       "      <td>20</td>\n",
       "      <td>42.731552</td>\n",
       "      <td>0</td>\n",
       "    </tr>\n",
       "  </tbody>\n",
       "</table>\n",
       "</div>"
      ],
      "text/plain": [
       "          Mouse ID  Timepoint  Tumor Volume (mm3)  Metastatic Sites\n",
       "Drug                                                               \n",
       "Capomulin     b128          0           45.000000                 0\n",
       "Capomulin     b128          5           45.651331                 0\n",
       "Capomulin     b128         10           43.270852                 0\n",
       "Capomulin     b128         15           43.784893                 0\n",
       "Capomulin     b128         20           42.731552                 0"
      ]
     },
     "execution_count": 6,
     "metadata": {},
     "output_type": "execute_result"
    }
   ],
   "source": [
    "merged = pd.merge(mousedata, trialdata, on=\"Mouse ID\")\n",
    "\n",
    "merged = merged.set_index('Drug')\n",
    "merged = merged.loc[['Capomulin','Infubinol','Ketapril','Placebo'],:]\n",
    "merged.head()"
   ]
  },
  {
   "cell_type": "code",
   "execution_count": 7,
   "metadata": {},
   "outputs": [
    {
     "data": {
      "text/html": [
       "<div>\n",
       "<style scoped>\n",
       "    .dataframe tbody tr th:only-of-type {\n",
       "        vertical-align: middle;\n",
       "    }\n",
       "\n",
       "    .dataframe tbody tr th {\n",
       "        vertical-align: top;\n",
       "    }\n",
       "\n",
       "    .dataframe thead th {\n",
       "        text-align: right;\n",
       "    }\n",
       "</style>\n",
       "<table border=\"1\" class=\"dataframe\">\n",
       "  <thead>\n",
       "    <tr style=\"text-align: right;\">\n",
       "      <th></th>\n",
       "      <th></th>\n",
       "      <th>Metastatic Sites</th>\n",
       "      <th>Tumor Volume (mm3)</th>\n",
       "    </tr>\n",
       "    <tr>\n",
       "      <th>Drug</th>\n",
       "      <th>Timepoint</th>\n",
       "      <th></th>\n",
       "      <th></th>\n",
       "    </tr>\n",
       "  </thead>\n",
       "  <tbody>\n",
       "    <tr>\n",
       "      <th rowspan=\"5\" valign=\"top\">Capomulin</th>\n",
       "      <th>0</th>\n",
       "      <td>0.000000</td>\n",
       "      <td>45.000000</td>\n",
       "    </tr>\n",
       "    <tr>\n",
       "      <th>5</th>\n",
       "      <td>0.160000</td>\n",
       "      <td>44.266086</td>\n",
       "    </tr>\n",
       "    <tr>\n",
       "      <th>10</th>\n",
       "      <td>0.320000</td>\n",
       "      <td>43.084291</td>\n",
       "    </tr>\n",
       "    <tr>\n",
       "      <th>15</th>\n",
       "      <td>0.375000</td>\n",
       "      <td>42.064317</td>\n",
       "    </tr>\n",
       "    <tr>\n",
       "      <th>20</th>\n",
       "      <td>0.652174</td>\n",
       "      <td>40.716325</td>\n",
       "    </tr>\n",
       "  </tbody>\n",
       "</table>\n",
       "</div>"
      ],
      "text/plain": [
       "                     Metastatic Sites  Tumor Volume (mm3)\n",
       "Drug      Timepoint                                      \n",
       "Capomulin 0                  0.000000           45.000000\n",
       "          5                  0.160000           44.266086\n",
       "          10                 0.320000           43.084291\n",
       "          15                 0.375000           42.064317\n",
       "          20                 0.652174           40.716325"
      ]
     },
     "execution_count": 7,
     "metadata": {},
     "output_type": "execute_result"
    }
   ],
   "source": [
    "merged_pivot = merged.pivot_table(index=['Drug', 'Timepoint'],values=['Tumor Volume (mm3)','Metastatic Sites'],aggfunc=np.mean)\n",
    "merged_pivot.head()"
   ]
  },
  {
   "cell_type": "code",
   "execution_count": 8,
   "metadata": {},
   "outputs": [
    {
     "data": {
      "text/html": [
       "<div>\n",
       "<style scoped>\n",
       "    .dataframe tbody tr th:only-of-type {\n",
       "        vertical-align: middle;\n",
       "    }\n",
       "\n",
       "    .dataframe tbody tr th {\n",
       "        vertical-align: top;\n",
       "    }\n",
       "\n",
       "    .dataframe thead th {\n",
       "        text-align: right;\n",
       "    }\n",
       "</style>\n",
       "<table border=\"1\" class=\"dataframe\">\n",
       "  <thead>\n",
       "    <tr style=\"text-align: right;\">\n",
       "      <th></th>\n",
       "      <th></th>\n",
       "      <th>Metastatic Sites</th>\n",
       "      <th>Tumor Volume (mm3)</th>\n",
       "    </tr>\n",
       "    <tr>\n",
       "      <th>Drug</th>\n",
       "      <th>Timepoint</th>\n",
       "      <th></th>\n",
       "      <th></th>\n",
       "    </tr>\n",
       "  </thead>\n",
       "  <tbody>\n",
       "    <tr>\n",
       "      <th rowspan=\"5\" valign=\"top\">Capomulin</th>\n",
       "      <th>0</th>\n",
       "      <td>0.000000</td>\n",
       "      <td>0.000000</td>\n",
       "    </tr>\n",
       "    <tr>\n",
       "      <th>5</th>\n",
       "      <td>0.074833</td>\n",
       "      <td>0.448593</td>\n",
       "    </tr>\n",
       "    <tr>\n",
       "      <th>10</th>\n",
       "      <td>0.125433</td>\n",
       "      <td>0.702684</td>\n",
       "    </tr>\n",
       "    <tr>\n",
       "      <th>15</th>\n",
       "      <td>0.132048</td>\n",
       "      <td>0.838617</td>\n",
       "    </tr>\n",
       "    <tr>\n",
       "      <th>20</th>\n",
       "      <td>0.161621</td>\n",
       "      <td>0.909731</td>\n",
       "    </tr>\n",
       "  </tbody>\n",
       "</table>\n",
       "</div>"
      ],
      "text/plain": [
       "                     Metastatic Sites  Tumor Volume (mm3)\n",
       "Drug      Timepoint                                      \n",
       "Capomulin 0                  0.000000            0.000000\n",
       "          5                  0.074833            0.448593\n",
       "          10                 0.125433            0.702684\n",
       "          15                 0.132048            0.838617\n",
       "          20                 0.161621            0.909731"
      ]
     },
     "execution_count": 8,
     "metadata": {},
     "output_type": "execute_result"
    }
   ],
   "source": [
    "se = merged.pivot_table(index=['Drug', 'Timepoint'],values=['Tumor Volume (mm3)','Metastatic Sites'],aggfunc=sem)\n",
    "se.head()"
   ]
  },
  {
   "cell_type": "code",
   "execution_count": 9,
   "metadata": {},
   "outputs": [
    {
     "data": {
      "text/plain": [
       "Index(['Capomulin', 'Infubinol', 'Ketapril', 'Placebo'], dtype='object', name='Drug')"
      ]
     },
     "execution_count": 9,
     "metadata": {},
     "output_type": "execute_result"
    }
   ],
   "source": [
    "drug_index = merged_pivot.index.get_level_values(0).unique()\n",
    "drug_index"
   ]
  },
  {
   "cell_type": "code",
   "execution_count": 10,
   "metadata": {},
   "outputs": [
    {
     "data": {
      "text/html": [
       "<div>\n",
       "<style scoped>\n",
       "    .dataframe tbody tr th:only-of-type {\n",
       "        vertical-align: middle;\n",
       "    }\n",
       "\n",
       "    .dataframe tbody tr th {\n",
       "        vertical-align: top;\n",
       "    }\n",
       "\n",
       "    .dataframe thead th {\n",
       "        text-align: right;\n",
       "    }\n",
       "</style>\n",
       "<table border=\"1\" class=\"dataframe\">\n",
       "  <thead>\n",
       "    <tr style=\"text-align: right;\">\n",
       "      <th></th>\n",
       "      <th></th>\n",
       "      <th>Tumor Volume Change (%)</th>\n",
       "    </tr>\n",
       "    <tr>\n",
       "      <th>Drug</th>\n",
       "      <th>Timepoint</th>\n",
       "      <th></th>\n",
       "    </tr>\n",
       "  </thead>\n",
       "  <tbody>\n",
       "    <tr>\n",
       "      <th rowspan=\"5\" valign=\"top\">Capomulin</th>\n",
       "      <th>0</th>\n",
       "      <td>0.000000</td>\n",
       "    </tr>\n",
       "    <tr>\n",
       "      <th>5</th>\n",
       "      <td>-1.630919</td>\n",
       "    </tr>\n",
       "    <tr>\n",
       "      <th>10</th>\n",
       "      <td>-4.257132</td>\n",
       "    </tr>\n",
       "    <tr>\n",
       "      <th>15</th>\n",
       "      <td>-6.523739</td>\n",
       "    </tr>\n",
       "    <tr>\n",
       "      <th>20</th>\n",
       "      <td>-9.519277</td>\n",
       "    </tr>\n",
       "  </tbody>\n",
       "</table>\n",
       "</div>"
      ],
      "text/plain": [
       "                     Tumor Volume Change (%)\n",
       "Drug      Timepoint                         \n",
       "Capomulin 0                         0.000000\n",
       "          5                        -1.630919\n",
       "          10                       -4.257132\n",
       "          15                       -6.523739\n",
       "          20                       -9.519277"
      ]
     },
     "execution_count": 10,
     "metadata": {},
     "output_type": "execute_result"
    }
   ],
   "source": [
    "tumor_vol_change_list = []\n",
    "for drug in drug_index:\n",
    "    \n",
    "    tumor_vol_t0 = merged_pivot.loc[drug].loc[0]['Tumor Volume (mm3)']\n",
    "    \n",
    "    num_timepoints = len(merged_pivot.loc[drug]['Tumor Volume (mm3)'].index)\n",
    "    \n",
    "    for i in range(num_timepoints):\n",
    "        \n",
    "        tp = 5*i\n",
    "        \n",
    "        tumor_vol_tp = merged_pivot.loc[drug].loc[tp]['Tumor Volume (mm3)']\n",
    "        \n",
    "        tumor_vol_change = (tumor_vol_tp-tumor_vol_t0)/tumor_vol_t0*100\n",
    "        \n",
    "        tumor_vol_change_list.append(tumor_vol_change)\n",
    "\n",
    "#Convert the tumor change list to dataframe\n",
    "tumor_vol_change_df = pd.DataFrame({\"Tumor Volume Change (%)\":tumor_vol_change_list}, index = merged_pivot.index)\n",
    "tumor_vol_change_df.head()"
   ]
  },
  {
   "cell_type": "code",
   "execution_count": 11,
   "metadata": {},
   "outputs": [
    {
     "data": {
      "text/html": [
       "<div>\n",
       "<style scoped>\n",
       "    .dataframe tbody tr th:only-of-type {\n",
       "        vertical-align: middle;\n",
       "    }\n",
       "\n",
       "    .dataframe tbody tr th {\n",
       "        vertical-align: top;\n",
       "    }\n",
       "\n",
       "    .dataframe thead th {\n",
       "        text-align: right;\n",
       "    }\n",
       "</style>\n",
       "<table border=\"1\" class=\"dataframe\">\n",
       "  <thead>\n",
       "    <tr style=\"text-align: right;\">\n",
       "      <th>Drug</th>\n",
       "      <th>Capomulin</th>\n",
       "      <th>Infubinol</th>\n",
       "      <th>Ketapril</th>\n",
       "      <th>Placebo</th>\n",
       "    </tr>\n",
       "    <tr>\n",
       "      <th>Timepoint</th>\n",
       "      <th></th>\n",
       "      <th></th>\n",
       "      <th></th>\n",
       "      <th></th>\n",
       "    </tr>\n",
       "  </thead>\n",
       "  <tbody>\n",
       "    <tr>\n",
       "      <th>0</th>\n",
       "      <td>45.000000</td>\n",
       "      <td>45.000000</td>\n",
       "      <td>45.000000</td>\n",
       "      <td>45.000000</td>\n",
       "    </tr>\n",
       "    <tr>\n",
       "      <th>5</th>\n",
       "      <td>44.266086</td>\n",
       "      <td>47.062001</td>\n",
       "      <td>47.389175</td>\n",
       "      <td>47.125589</td>\n",
       "    </tr>\n",
       "    <tr>\n",
       "      <th>10</th>\n",
       "      <td>43.084291</td>\n",
       "      <td>49.403909</td>\n",
       "      <td>49.582269</td>\n",
       "      <td>49.423329</td>\n",
       "    </tr>\n",
       "    <tr>\n",
       "      <th>15</th>\n",
       "      <td>42.064317</td>\n",
       "      <td>51.296397</td>\n",
       "      <td>52.399974</td>\n",
       "      <td>51.359742</td>\n",
       "    </tr>\n",
       "    <tr>\n",
       "      <th>20</th>\n",
       "      <td>40.716325</td>\n",
       "      <td>53.197691</td>\n",
       "      <td>54.920935</td>\n",
       "      <td>54.364417</td>\n",
       "    </tr>\n",
       "  </tbody>\n",
       "</table>\n",
       "</div>"
      ],
      "text/plain": [
       "Drug       Capomulin  Infubinol   Ketapril    Placebo\n",
       "Timepoint                                            \n",
       "0          45.000000  45.000000  45.000000  45.000000\n",
       "5          44.266086  47.062001  47.389175  47.125589\n",
       "10         43.084291  49.403909  49.582269  49.423329\n",
       "15         42.064317  51.296397  52.399974  51.359742\n",
       "20         40.716325  53.197691  54.920935  54.364417"
      ]
     },
     "execution_count": 11,
     "metadata": {},
     "output_type": "execute_result"
    }
   ],
   "source": [
    "tumor_vol_d1 = merged_pivot.loc['Capomulin']['Tumor Volume (mm3)']\n",
    "\n",
    "for drug in drug_index[1:]:\n",
    "    \n",
    "    tumor_vol_dx = merged_pivot.loc[drug]['Tumor Volume (mm3)']\n",
    "    \n",
    "    tumor_vol_dall = pd.concat([tumor_vol_d1,tumor_vol_dx], axis=1) \n",
    "    \n",
    "    tumor_vol_d1=tumor_vol_dall\n",
    "\n",
    "\n",
    "tumor_vol_dall.columns = drug_index\n",
    "\n",
    "tumor_vol_dall.head()"
   ]
  },
  {
   "cell_type": "code",
   "execution_count": 13,
   "metadata": {},
   "outputs": [
    {
     "data": {
      "image/png": "[encoded data removed]",
      "text/plain": [
       "<matplotlib.figure.Figure at 0x1a17da30b8>"
      ]
     },
     "metadata": {},
     "output_type": "display_data"
    }
   ],
   "source": [
    "x_axis = tumor_vol_dall.index\n",
    "\n",
    "color_panel = ['g','r','b','y','r','g','b','y','r','g']\n",
    "filled_markers = ['o', 's', 'h', 'X', '>', '^', 'v', 'p', '*', '8', 'H', 'D', 'd', 'P', '<']\n",
    "\n",
    "plt.figure(figsize=(6,6))\n",
    "\n",
    "for i,drug in enumerate (drug_index):\n",
    "    \n",
    "    y_axis = tumor_vol_dall[drug]\n",
    "    \n",
    "    (_,caps,_)=plt.errorbar(x_axis, y_axis, yerr=se.loc[drug]['Tumor Volume (mm3)'], \n",
    "                 c=color_panel[i], marker=filled_markers[i], markersize=5, capsize=5, dashes=[10,10], linewidth=0.8)\n",
    "    for cap in caps:\n",
    "        cap.set_markeredgewidth(1)\n",
    "\n",
    "plt.xlim(0, max(x_axis)+5)\n",
    "plt.ylim(20, 80)\n",
    "\n",
    "plt.title(\"Tumor Response to Treatment\", fontsize=12)\n",
    "plt.xlabel(\"Time (Days)\", fontsize=12)\n",
    "plt.ylabel(\"Tumor Volume (mm3)\", fontsize=12)\n",
    "plt.legend(drug_index, loc='best', fontsize=12)\n",
    "plt.grid(True)\n",
    "\n",
    "plt.tight_layout()\n",
    "plt.show()"
   ]
  },
  {
   "cell_type": "code",
   "execution_count": 14,
   "metadata": {},
   "outputs": [
    {
     "data": {
      "text/plain": [
       "<matplotlib.figure.Figure at 0x1a17c540b8>"
      ]
     },
     "metadata": {},
     "output_type": "display_data"
    }
   ],
   "source": [
    "plt.savefig('tumor_response')"
   ]
  },
  {
   "cell_type": "code",
   "execution_count": 15,
   "metadata": {},
   "outputs": [
    {
     "data": {
      "image/png": "[encoded data removed]",
      "text/plain": [
       "<matplotlib.figure.Figure at 0x1a17db7518>"
      ]
     },
     "metadata": {},
     "output_type": "display_data"
    }
   ],
   "source": [
    "x_axis = tumor_vol_dall.index\n",
    "\n",
    "color_panel=['g','r','b','y','r','g','b','y','r','g']\n",
    "filled_markers = ['o', 's', 'h', 'X', '>', '8', 's', 'p', '*', 'h', 'H', 'D', 'd', 'P', 'X']\n",
    "\n",
    "plt.figure(figsize=(6,6))\n",
    "\n",
    "for i,drug in enumerate (drug_index):\n",
    "    (_,caps,_)=plt.errorbar(x_axis, merged_pivot.loc[drug,'Metastatic Sites'], yerr = se.loc[drug]['Metastatic Sites'], \n",
    "                 color=color_panel[i], fmt=filled_markers[i], capsize=5, markersize=5, dashes=[10,10], linewidth=0.8)\n",
    "    for cap in caps:\n",
    "        cap.set_markeredgewidth(1)\n",
    "        \n",
    "plt.xlim(0, max(x_axis)+5)\n",
    "\n",
    "\n",
    "plt.title(\"Metastatic Spread During Treatment\",fontsize=12)\n",
    "plt.xlabel(\"Treatment Duration (Days)\",fontsize=12)\n",
    "plt.ylabel(\"Met. Sites\",fontsize=12)\n",
    "plt.legend(drug_index, loc='best', fontsize=12)\n",
    "\n",
    "plt.grid(True)\n",
    "plt.tight_layout()\n",
    "plt.show()"
   ]
  },
  {
   "cell_type": "code",
   "execution_count": 16,
   "metadata": {},
   "outputs": [
    {
     "data": {
      "text/plain": [
       "Drug       Timepoint\n",
       "Capomulin  0            25\n",
       "           5            25\n",
       "           10           25\n",
       "           15           24\n",
       "           20           23\n",
       "Name: Tumor Volume (mm3), dtype: int64"
      ]
     },
     "execution_count": 16,
     "metadata": {},
     "output_type": "execute_result"
    }
   ],
   "source": [
    "survival_count = merged.groupby([\"Drug\",\"Timepoint\"])['Tumor Volume (mm3)'].count()\n",
    "survival_count.head()"
   ]
  },
  {
   "cell_type": "code",
   "execution_count": 17,
   "metadata": {},
   "outputs": [
    {
     "data": {
      "text/html": [
       "<div>\n",
       "<style scoped>\n",
       "    .dataframe tbody tr th:only-of-type {\n",
       "        vertical-align: middle;\n",
       "    }\n",
       "\n",
       "    .dataframe tbody tr th {\n",
       "        vertical-align: top;\n",
       "    }\n",
       "\n",
       "    .dataframe thead th {\n",
       "        text-align: right;\n",
       "    }\n",
       "</style>\n",
       "<table border=\"1\" class=\"dataframe\">\n",
       "  <thead>\n",
       "    <tr style=\"text-align: right;\">\n",
       "      <th>Drug</th>\n",
       "      <th>Capomulin</th>\n",
       "      <th>Infubinol</th>\n",
       "      <th>Ketapril</th>\n",
       "      <th>Placebo</th>\n",
       "    </tr>\n",
       "    <tr>\n",
       "      <th>Timepoint</th>\n",
       "      <th></th>\n",
       "      <th></th>\n",
       "      <th></th>\n",
       "      <th></th>\n",
       "    </tr>\n",
       "  </thead>\n",
       "  <tbody>\n",
       "    <tr>\n",
       "      <th>0</th>\n",
       "      <td>25</td>\n",
       "      <td>25</td>\n",
       "      <td>25</td>\n",
       "      <td>25</td>\n",
       "    </tr>\n",
       "    <tr>\n",
       "      <th>5</th>\n",
       "      <td>25</td>\n",
       "      <td>25</td>\n",
       "      <td>23</td>\n",
       "      <td>24</td>\n",
       "    </tr>\n",
       "    <tr>\n",
       "      <th>10</th>\n",
       "      <td>25</td>\n",
       "      <td>21</td>\n",
       "      <td>22</td>\n",
       "      <td>24</td>\n",
       "    </tr>\n",
       "    <tr>\n",
       "      <th>15</th>\n",
       "      <td>24</td>\n",
       "      <td>21</td>\n",
       "      <td>19</td>\n",
       "      <td>20</td>\n",
       "    </tr>\n",
       "    <tr>\n",
       "      <th>20</th>\n",
       "      <td>23</td>\n",
       "      <td>20</td>\n",
       "      <td>19</td>\n",
       "      <td>19</td>\n",
       "    </tr>\n",
       "  </tbody>\n",
       "</table>\n",
       "</div>"
      ],
      "text/plain": [
       "Drug       Capomulin  Infubinol  Ketapril  Placebo\n",
       "Timepoint                                         \n",
       "0                 25         25        25       25\n",
       "5                 25         25        23       24\n",
       "10                25         21        22       24\n",
       "15                24         21        19       20\n",
       "20                23         20        19       19"
      ]
     },
     "execution_count": 17,
     "metadata": {},
     "output_type": "execute_result"
    }
   ],
   "source": [
    "survival_d1 = survival_count['Capomulin']\n",
    "\n",
    "for drug in drug_index[1:]:\n",
    "    survival_dx = survival_count[drug]\n",
    "    survival_summary = pd.concat([survival_d1,survival_dx], axis=1) \n",
    "    survival_d1 = survival_summary\n",
    "\n",
    "survival_summary.columns=drug_index\n",
    "\n",
    "survival_summary.head()"
   ]
  },
  {
   "cell_type": "code",
   "execution_count": 18,
   "metadata": {},
   "outputs": [
    {
     "data": {
      "image/png": "[encoded data removed]",
      "text/plain": [
       "<matplotlib.figure.Figure at 0x1a200d5c18>"
      ]
     },
     "metadata": {},
     "output_type": "display_data"
    }
   ],
   "source": [
    "plt.figure(figsize=(6,6))\n",
    "\n",
    "x_axis = survival_summary.index\n",
    "\n",
    "color_panel = ['g','r','b','y','r','g','b','y','r','g']\n",
    "filled_markers = ['o', 's', 'h', 'X', '>', '8', 's', 'p', '*', 'h', 'H', 'D', 'd', 'P', 'X']\n",
    "\n",
    "for i,drug in enumerate (drug_index):\n",
    "    \n",
    "    num_t0 = survival_summary[drug][0]\n",
    "    \n",
    "    plt.plot(x_axis,survival_summary[drug]/num_t0*100, marker = filled_markers[i], markersize = 5, c = color_panel[i],\n",
    "             dashes=[10,10], linewidth=0.8)\n",
    "\n",
    "plt.xlim(0, max(x_axis)+5)\n",
    "\n",
    "plt.title(\"Survival During Treatment\",fontsize=12)\n",
    "plt.xlabel(\"Time (Days)\",fontsize=12)\n",
    "plt.ylabel(\"Survival Rate (%)\",fontsize=12)\n",
    "plt.legend(drug_index, loc='best',fontsize=12)\n",
    "\n",
    "plt.grid(True)\n",
    "plt.tight_layout()\n",
    "plt.show()"
   ]
  },
  {
   "cell_type": "code",
   "execution_count": 19,
   "metadata": {},
   "outputs": [
    {
     "data": {
      "text/plain": [
       "Drug\n",
       "Capomulin   -19.475303\n",
       "Infubinol    46.123472\n",
       "Ketapril     57.028795\n",
       "Placebo      51.297960\n",
       "dtype: float64"
      ]
     },
     "execution_count": 19,
     "metadata": {},
     "output_type": "execute_result"
    }
   ],
   "source": [
    "summary=(tumor_vol_dall.loc[45]/tumor_vol_dall.loc[0]-1)*100\n",
    "summary.head()"
   ]
  },
  {
   "cell_type": "code",
   "execution_count": 20,
   "metadata": {},
   "outputs": [
    {
     "data": {
      "image/png": "[encoded data removed]",
      "text/plain": [
       "<matplotlib.figure.Figure at 0x1a17db76d8>"
      ]
     },
     "metadata": {},
     "output_type": "display_data"
    }
   ],
   "source": [
    "x_axis = np.arange(len(summary.index))\n",
    "y_axis = summary.values\n",
    "\n",
    "tick_locations = [value+0.4 for value in x_axis]\n",
    "\n",
    "fig, ax = plt.subplots()\n",
    "\n",
    "ax.hlines(0,0,len(x_axis), alpha=0.5)\n",
    "\n",
    "for i,y in enumerate (y_axis):\n",
    "    \n",
    "    if y<0:\n",
    "        rects=ax.bar(x_axis[i], y, color='g', alpha=1, align=\"edge\")\n",
    "    else:\n",
    "        rects=ax.bar(x_axis[i], y, color='r', alpha=1, align=\"edge\")\n",
    "    \n",
    "    for r in rects: \n",
    "        height = r.get_height()\n",
    "        if height > 0:\n",
    "            ax.text(r.get_x() + r.get_width()/2., 2,'%d' % int(height),ha='center', va='bottom')\n",
    "        else:\n",
    "            ax.text(r.get_x() + r.get_width()/2., -4,'%d' % int(height),ha='center', va='bottom')\n",
    "\n",
    "plt.xticks(tick_locations, summary.index, rotation=\"horizontal\", fontsize=12)\n",
    "\n",
    "plt.xlim(0, len(x_axis))\n",
    "plt.ylim(-30, max(y_axis)+10)\n",
    "\n",
    "plt.title(\"Tumor Change Over 45 Day Treatment\")\n",
    "plt.xlabel(\"Drug\")\n",
    "plt.ylabel(\"% Tumor Volume Change\")\n",
    "plt.grid(True)\n",
    "\n",
    "plt.tight_layout()\n",
    "plt.show()\n"
   ]
  },
  {
   "cell_type": "code",
   "execution_count": null,
   "metadata": {},
   "outputs": [],
   "source": []
  }
 ],
 "metadata": {
  "kernelspec": {
   "display_name": "Python 3",
   "language": "python",
   "name": "python3"
  },
  "language_info": {
   "codemirror_mode": {
    "name": "ipython",
    "version": 3
   },
   "file_extension": ".py",
   "mimetype": "text/x-python",
   "name": "python",
   "nbconvert_exporter": "python",
   "pygments_lexer": "ipython3",
   "version": "3.6.4"
  }
 },
 "nbformat": 4,
 "nbformat_minor": 2
}
